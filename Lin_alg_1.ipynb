{
 "cells": [
  {
   "cell_type": "code",
   "execution_count": 1,
   "metadata": {},
   "outputs": [],
   "source": [
    "import numpy as np"
   ]
  },
  {
   "cell_type": "code",
   "execution_count": 2,
   "metadata": {},
   "outputs": [],
   "source": [
    "# найти скалярное произведение векторов"
   ]
  },
  {
   "cell_type": "code",
   "execution_count": 4,
   "metadata": {},
   "outputs": [
    {
     "name": "stdout",
     "output_type": "stream",
     "text": [
      "Скалярное произведение х,у:\n",
      "33\n"
     ]
    }
   ],
   "source": [
    "x = np.array([0, -3, 6])\n",
    "y = np.array([-4, 7, 9])\n",
    "print(f'Скалярное произведение х,у:\\n{np.dot(x, y)}')"
   ]
  },
  {
   "cell_type": "code",
   "execution_count": 5,
   "metadata": {},
   "outputs": [
    {
     "name": "stdout",
     "output_type": "stream",
     "text": [
      "Скалярное произведение х,у:\n",
      "-23\n"
     ]
    }
   ],
   "source": [
    "x = np.array([7, -4, 0, 1])\n",
    "y = np.array([-3, 1, 11, 2])\n",
    "print(f'Скалярное произведение х,у:\\n{np.dot(x, y)}')"
   ]
  },
  {
   "cell_type": "code",
   "execution_count": 6,
   "metadata": {},
   "outputs": [],
   "source": [
    "# найти нормы векторов"
   ]
  },
  {
   "cell_type": "code",
   "execution_count": 7,
   "metadata": {},
   "outputs": [],
   "source": [
    "from numpy.linalg import norm"
   ]
  },
  {
   "cell_type": "code",
   "execution_count": 14,
   "metadata": {},
   "outputs": [
    {
     "name": "stdout",
     "output_type": "stream",
     "text": [
      "Манхэттеновская норма вектора х:\n",
      "10.0\n"
     ]
    }
   ],
   "source": [
    "x = np.array([4, 2, 4])\n",
    "print(f'Манхэттеновская норма вектора х:\\n{norm(x, ord=1)}')"
   ]
  },
  {
   "cell_type": "code",
   "execution_count": 15,
   "metadata": {},
   "outputs": [
    {
     "name": "stdout",
     "output_type": "stream",
     "text": [
      "Евклидова норма вектора х2:\n",
      "6.0\n"
     ]
    }
   ],
   "source": [
    "x2 = np.array([4, 2, 4])\n",
    "print(f'Евклидова норма вектора х2:\\n{norm(x2, ord=2)}')"
   ]
  },
  {
   "cell_type": "code",
   "execution_count": 16,
   "metadata": {},
   "outputs": [
    {
     "name": "stdout",
     "output_type": "stream",
     "text": [
      "Манхэттеновская норма вектора y:\n",
      "19.0\n"
     ]
    }
   ],
   "source": [
    "y = np.array([12, 3, 4])\n",
    "print(f'Манхэттеновская норма вектора y:\\n{norm(y, ord=1)}')"
   ]
  },
  {
   "cell_type": "code",
   "execution_count": 17,
   "metadata": {},
   "outputs": [
    {
     "name": "stdout",
     "output_type": "stream",
     "text": [
      "Евклидова норма вектора y2:\n",
      "13.0\n"
     ]
    }
   ],
   "source": [
    "y2 = np.array([12, 3, 4])\n",
    "print(f'Евклидова норма вектора y2:\\n{norm(y2, ord=2)}')"
   ]
  },
  {
   "cell_type": "code",
   "execution_count": 13,
   "metadata": {},
   "outputs": [],
   "source": [
    "# найти угол между векторами x и y"
   ]
  },
  {
   "cell_type": "code",
   "execution_count": 18,
   "metadata": {},
   "outputs": [],
   "source": [
    "cos_phi_man = np.dot(x, y)/norm(x)/norm(y)"
   ]
  },
  {
   "cell_type": "code",
   "execution_count": 19,
   "metadata": {},
   "outputs": [
    {
     "name": "stdout",
     "output_type": "stream",
     "text": [
      "Угол между векторами манхэттеновской нормы:\n",
      "0.8974358974358974\n"
     ]
    }
   ],
   "source": [
    "print(f'Угол между векторами манхэттеновской нормы:\\n{cos_phi_man}')"
   ]
  },
  {
   "cell_type": "code",
   "execution_count": 22,
   "metadata": {},
   "outputs": [],
   "source": [
    "cos_phi_evk = np.dot(x2, y2)/norm(x2)/norm(y2)"
   ]
  },
  {
   "cell_type": "code",
   "execution_count": 23,
   "metadata": {},
   "outputs": [
    {
     "name": "stdout",
     "output_type": "stream",
     "text": [
      "Угол между векторами евклидовой нормы:\n",
      "0.8974358974358974\n"
     ]
    }
   ],
   "source": [
    "print(f'Угол между векторами евклидовой нормы:\\n{cos_phi_evk}')"
   ]
  },
  {
   "cell_type": "code",
   "execution_count": 24,
   "metadata": {},
   "outputs": [],
   "source": [
    "# будет ли линейное пространство евклидовым, если за скалярное произведение признать:"
   ]
  },
  {
   "cell_type": "code",
   "execution_count": 25,
   "metadata": {},
   "outputs": [
    {
     "name": "stdout",
     "output_type": "stream",
     "text": [
      "Скалярное произведение a,b:\n",
      "-54\n",
      "Скалярное произведение b,a:\n",
      "-54\n"
     ]
    }
   ],
   "source": [
    "a = np.array([3, -3, 6])\n",
    "b = np.array([-1, 7, -5])\n",
    "print(f'Скалярное произведение a,b:\\n{np.dot(a, b)}')\n",
    "print(f'Скалярное произведение b,a:\\n{np.dot(b, a)}')"
   ]
  },
  {
   "cell_type": "code",
   "execution_count": 27,
   "metadata": {},
   "outputs": [
    {
     "name": "stdout",
     "output_type": "stream",
     "text": [
      "Скалярное произведение L*a,b:\n",
      "-162\n"
     ]
    }
   ],
   "source": [
    "L = 3\n",
    "print(f'Скалярное произведение L*a,b:\\n{np.dot(L*a, b)}')"
   ]
  },
  {
   "cell_type": "code",
   "execution_count": 28,
   "metadata": {},
   "outputs": [
    {
     "name": "stdout",
     "output_type": "stream",
     "text": [
      "Скалярное произведение L*(a,b):\n",
      "-162\n"
     ]
    }
   ],
   "source": [
    "print(f'Скалярное произведение L*(a,b):\\n{L*np.dot(a, b)}')"
   ]
  },
  {
   "cell_type": "code",
   "execution_count": 33,
   "metadata": {},
   "outputs": [
    {
     "name": "stdout",
     "output_type": "stream",
     "text": [
      "Скалярное произведение (a + a2,b):\n",
      "-116\n",
      "Скалярное произведение (a, b) + (a2, b):\n",
      "-116\n"
     ]
    }
   ],
   "source": [
    "a = np.array([3, -3, 6])\n",
    "a2 = np.array([5, -1, 10])\n",
    "b = np.array([-1, 7, -5])\n",
    "print(f'Скалярное произведение (a + a2,b):\\n{np.dot(a+a2, b)}')\n",
    "print(f'Скалярное произведение (a, b) + (a2, b):\\n{np.dot(a, b) + np.dot(a2, b)}')"
   ]
  },
  {
   "cell_type": "code",
   "execution_count": 35,
   "metadata": {},
   "outputs": [
    {
     "name": "stdout",
     "output_type": "stream",
     "text": [
      "Скалярное произведение (a, a):\n",
      "54\n"
     ]
    }
   ],
   "source": [
    "a = np.array([3, -3, 6])\n",
    "print(f'Скалярное произведение (a, a):\\n{np.dot(a, a)}')\n",
    "# больше \"0\" - имеем дело с евклидовым пространством в выбранных векторах"
   ]
  },
  {
   "cell_type": "code",
   "execution_count": 36,
   "metadata": {},
   "outputs": [],
   "source": [
    "# какие из векторов образуют ортонормированный базис в R3"
   ]
  },
  {
   "cell_type": "code",
   "execution_count": 37,
   "metadata": {},
   "outputs": [
    {
     "name": "stdout",
     "output_type": "stream",
     "text": [
      "Скалярное произведение (c, d):\n",
      "0\n"
     ]
    }
   ],
   "source": [
    "c = np.array([1, 0, 0])\n",
    "d = np.array([0, 0, 1])\n",
    "print(f'Скалярное произведение (c, d):\\n{np.dot(c, d)}')"
   ]
  },
  {
   "cell_type": "code",
   "execution_count": 42,
   "metadata": {},
   "outputs": [
    {
     "name": "stdout",
     "output_type": "stream",
     "text": [
      "Скалярное произведение (e, f):\n",
      "0.0\n",
      "Скалярное произведение (e, g):\n",
      "0.0\n",
      "Скалярное произведение (f, g):\n",
      "0.0\n"
     ]
    }
   ],
   "source": [
    "import math\n",
    "e = np.array([1/math.sqrt(2), -1/math.sqrt(2), 0])\n",
    "f = np.array([1/math.sqrt(2), 1/math.sqrt(2), 0])\n",
    "g = d = np.array([0, 0, 1])\n",
    "print(f'Скалярное произведение (e, f):\\n{np.dot(e, f)}')\n",
    "print(f'Скалярное произведение (e, g):\\n{np.dot(e, f)}')\n",
    "print(f'Скалярное произведение (f, g):\\n{np.dot(e, f)}')"
   ]
  },
  {
   "cell_type": "code",
   "execution_count": 44,
   "metadata": {},
   "outputs": [
    {
     "name": "stdout",
     "output_type": "stream",
     "text": [
      "Скалярное произведение (h, i):\n",
      "-0.25\n",
      "Скалярное произведение (h, j):\n",
      "0.0\n",
      "Скалярное произведение (i, j):\n",
      "0.5\n"
     ]
    }
   ],
   "source": [
    "h = np.array([1/2, -1/2, 0])\n",
    "i = np.array([0, 1/2, 1/2])\n",
    "j = d = np.array([0, 0, 1])\n",
    "print(f'Скалярное произведение (h, i):\\n{np.dot(h, i)}')\n",
    "print(f'Скалярное произведение (h, j):\\n{np.dot(h, j)}')\n",
    "print(f'Скалярное произведение (i, j):\\n{np.dot(i, j)}')\n",
    "# данные вектора не образуют ортонормированный базис в пространстве R3"
   ]
  },
  {
   "cell_type": "code",
   "execution_count": 45,
   "metadata": {},
   "outputs": [
    {
     "name": "stdout",
     "output_type": "stream",
     "text": [
      "Скалярное произведение (k, l):\n",
      "0\n",
      "Скалярное произведение (k, m):\n",
      "0\n",
      "Скалярное произведение (l, m):\n",
      "0\n"
     ]
    }
   ],
   "source": [
    "k = np.array([1, 0, 0])\n",
    "l = np.array([0, 1, 0])\n",
    "m = np.array([0, 0, 1])\n",
    "print(f'Скалярное произведение (k, l):\\n{np.dot(k, l)}')\n",
    "print(f'Скалярное произведение (k, m):\\n{np.dot(k, m)}')\n",
    "print(f'Скалярное произведение (l, m):\\n{np.dot(l, m)}')"
   ]
  },
  {
   "cell_type": "code",
   "execution_count": null,
   "metadata": {},
   "outputs": [],
   "source": []
  }
 ],
 "metadata": {
  "kernelspec": {
   "display_name": "Python 3",
   "language": "python",
   "name": "python3"
  },
  "language_info": {
   "codemirror_mode": {
    "name": "ipython",
    "version": 3
   },
   "file_extension": ".py",
   "mimetype": "text/x-python",
   "name": "python",
   "nbconvert_exporter": "python",
   "pygments_lexer": "ipython3",
   "version": "3.8.5"
  }
 },
 "nbformat": 4,
 "nbformat_minor": 4
}
