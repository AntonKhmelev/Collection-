{
 "cells": [
  {
   "cell_type": "code",
   "execution_count": 1,
   "metadata": {},
   "outputs": [],
   "source": [
    "import numpy as np"
   ]
  },
  {
   "cell_type": "code",
   "execution_count": 4,
   "metadata": {},
   "outputs": [
    {
     "name": "stdout",
     "output_type": "stream",
     "text": [
      "Ранг матрицы A: 3\n",
      "Ранг матрицы At: 3\n"
     ]
    }
   ],
   "source": [
    "x1 = [3, -1, 1]\n",
    "y1 = [2, -5, -3]\n",
    "z1 = [1, 1, -1]\n",
    "\n",
    "x2 = [3, -1, 1, 4]\n",
    "y2 = [2, -5, -3, -17]\n",
    "z2 = [1, 1, -1, 0]\n",
    "\n",
    "\n",
    "A = np.array([x1, y1, z1])\n",
    "r1 = np.linalg.matrix_rank(A)\n",
    "\n",
    "At = np.array([x2, y2, z2])\n",
    "r2 = np.linalg.matrix_rank(At)\n",
    "\n",
    "print(f'Ранг матрицы A: {r1}')\n",
    "\n",
    "print(f'Ранг матрицы At: {r2}')"
   ]
  },
  {
   "cell_type": "code",
   "execution_count": 11,
   "metadata": {},
   "outputs": [],
   "source": [
    "# ранги равны, число неизвестных n = 3 = rank, значит, система совместна, и имеется 1 решение"
   ]
  },
  {
   "cell_type": "code",
   "execution_count": 5,
   "metadata": {},
   "outputs": [
    {
     "name": "stdout",
     "output_type": "stream",
     "text": [
      "Ранг матрицы A: 1\n",
      "Ранг матрицы At: 2\n"
     ]
    }
   ],
   "source": [
    "x1 = [2, -4, 6]\n",
    "y1 = [1, -2, 3]\n",
    "z1 = [3, -6, 9]\n",
    "\n",
    "x2 = [2, -4, 6, 1]\n",
    "y2 = [1, -2, 3, -2]\n",
    "z2 = [3, -6, 9, 5]\n",
    "\n",
    "\n",
    "A = np.array([x1, y1, z1])\n",
    "r1 = np.linalg.matrix_rank(A)\n",
    "\n",
    "At = np.array([x2, y2, z2])\n",
    "r2 = np.linalg.matrix_rank(At)\n",
    "\n",
    "print(f'Ранг матрицы A: {r1}')\n",
    "\n",
    "print(f'Ранг матрицы At: {r2}')"
   ]
  },
  {
   "cell_type": "code",
   "execution_count": 6,
   "metadata": {},
   "outputs": [],
   "source": [
    "# ранг расширенной матрицы At > матрицы A, значит, система несовместна, решений нет"
   ]
  },
  {
   "cell_type": "code",
   "execution_count": 7,
   "metadata": {},
   "outputs": [
    {
     "name": "stdout",
     "output_type": "stream",
     "text": [
      "Ранг матрицы A: 2\n",
      "Ранг матрицы At: 2\n"
     ]
    }
   ],
   "source": [
    "x1 = [1, 2, 5]\n",
    "y1 = [3, 1, -8]\n",
    "\n",
    "x2 = [1, 2, 5, 4]\n",
    "y2 = [3, 1, -8, -2]\n",
    "\n",
    "A = np.array([x1, y1])\n",
    "r1 = np.linalg.matrix_rank(A)\n",
    "\n",
    "At = np.array([x2, y2])\n",
    "r2 = np.linalg.matrix_rank(At)\n",
    "\n",
    "print(f'Ранг матрицы A: {r1}')\n",
    "\n",
    "print(f'Ранг матрицы At: {r2}')"
   ]
  },
  {
   "cell_type": "code",
   "execution_count": 8,
   "metadata": {},
   "outputs": [],
   "source": [
    "# ранги равны, число неизвестных n = 3 > rank, значит, система совместна, и имеется множество решений"
   ]
  },
  {
   "cell_type": "code",
   "execution_count": 9,
   "metadata": {},
   "outputs": [
    {
     "name": "stdout",
     "output_type": "stream",
     "text": [
      "Ранг матрицы A: 4\n",
      "Ранг матрицы At: 4\n"
     ]
    }
   ],
   "source": [
    "x1 = [1, 3, -2, 4]\n",
    "y1 = [0, 5, 0, 1]\n",
    "z1 = [0, 0, 3, 0]\n",
    "c1 = [0, 0, 0, 2]\n",
    "\n",
    "x2 = [1, 3, -2, 4, 3]\n",
    "y2 = [0, 5, 0, 1, 2]\n",
    "z2 = [0, 0, 3, 0, 4]\n",
    "c2 = [0, 0, 0, 2, 1]\n",
    "\n",
    "\n",
    "A = np.array([x1, y1, z1, c1])\n",
    "r1 = np.linalg.matrix_rank(A)\n",
    "\n",
    "At = np.array([x2, y2, z2, c2])\n",
    "r2 = np.linalg.matrix_rank(At)\n",
    "\n",
    "print(f'Ранг матрицы A: {r1}')\n",
    "\n",
    "print(f'Ранг матрицы At: {r2}')"
   ]
  },
  {
   "cell_type": "code",
   "execution_count": 10,
   "metadata": {},
   "outputs": [],
   "source": [
    "# ранги равны, число неизвестных n = 4 = rank, значит, система совместна, и имеется 1 решение"
   ]
  },
  {
   "cell_type": "code",
   "execution_count": 4,
   "metadata": {},
   "outputs": [],
   "source": [
    "# решить систему уравнений методом Крамера"
   ]
  },
  {
   "cell_type": "code",
   "execution_count": 5,
   "metadata": {},
   "outputs": [],
   "source": [
    "import numpy as np"
   ]
  },
  {
   "cell_type": "code",
   "execution_count": 9,
   "metadata": {},
   "outputs": [
    {
     "name": "stdout",
     "output_type": "stream",
     "text": [
      "Матрица:\n",
      "[[ 1 -2]\n",
      " [ 3 -4]]\n",
      "Матрица:\n",
      "[[ 1 -2]\n",
      " [ 7 -4]]\n",
      "Матрица:\n",
      "[[1 1]\n",
      " [3 7]]\n",
      "Определитель:\n",
      "2\n",
      "Определитель:\n",
      "10\n",
      "Определитель:\n",
      "4\n"
     ]
    }
   ],
   "source": [
    "a = np.array([[1, -2], [3, -4]])\n",
    "b = np.array([[1, -2], [7, -4]])\n",
    "c = np.array([[1, 1], [3, 7]])\n",
    "print(f'Матрица:\\n{a}')\n",
    "print(f'Матрица:\\n{b}')\n",
    "print(f'Матрица:\\n{c}')\n",
    "print(f'Определитель:\\n{np.linalg.det(a):.0f}')\n",
    "print(f'Определитель:\\n{np.linalg.det(b):.0f}')\n",
    "print(f'Определитель:\\n{np.linalg.det(c):.0f}')"
   ]
  },
  {
   "cell_type": "code",
   "execution_count": 16,
   "metadata": {},
   "outputs": [
    {
     "name": "stdout",
     "output_type": "stream",
     "text": [
      "x1 = 5.0\n",
      "x2 = 2.0\n"
     ]
    }
   ],
   "source": [
    "x1 = (np.linalg.det(b))/(np.linalg.det(a))\n",
    "x2 = (np.linalg.det(c))/(np.linalg.det(a))\n",
    "print(f'x1 = {round(x1,1)}')\n",
    "print(f'x2 = {round(x2,1)}')"
   ]
  },
  {
   "cell_type": "code",
   "execution_count": 18,
   "metadata": {},
   "outputs": [
    {
     "name": "stdout",
     "output_type": "stream",
     "text": [
      "Матрица:\n",
      "[[ 2 -1  5]\n",
      " [ 1  1 -3]\n",
      " [ 2  4  1]]\n",
      "Матрица:\n",
      "[[10 -1  5]\n",
      " [-2  1 -3]\n",
      " [ 1  4  1]]\n",
      "Матрица:\n",
      "[[ 2 10  5]\n",
      " [ 1 -2 -3]\n",
      " [ 2  1  1]]\n",
      "Матрица:\n",
      "[[ 2 -1 10]\n",
      " [ 1  1 -2]\n",
      " [ 2  4  1]]\n",
      "Определитель:\n",
      "43\n",
      "Определитель:\n",
      "86\n",
      "Определитель:\n",
      "-43\n",
      "Определитель:\n",
      "43\n"
     ]
    }
   ],
   "source": [
    "a = np.array([[2, -1, 5], [1, 1, -3], [2, 4, 1]])\n",
    "b = np.array([[10, -1, 5], [-2, 1, -3], [1, 4, 1]])\n",
    "c = np.array([[2, 10, 5], [1, -2, -3], [2, 1, 1]])\n",
    "d = np.array([[2, -1, 10], [1, 1, -2], [2, 4, 1]])\n",
    "print(f'Матрица:\\n{a}')\n",
    "print(f'Матрица:\\n{b}')\n",
    "print(f'Матрица:\\n{c}')\n",
    "print(f'Матрица:\\n{d}')\n",
    "print(f'Определитель:\\n{np.linalg.det(a):.0f}')\n",
    "print(f'Определитель:\\n{np.linalg.det(b):.0f}')\n",
    "print(f'Определитель:\\n{np.linalg.det(c):.0f}')\n",
    "print(f'Определитель:\\n{np.linalg.det(d):.0f}')"
   ]
  },
  {
   "cell_type": "code",
   "execution_count": 20,
   "metadata": {},
   "outputs": [
    {
     "name": "stdout",
     "output_type": "stream",
     "text": [
      "x1 = 2.0\n",
      "x2 = -1.0\n",
      "x3 = 1.0\n"
     ]
    }
   ],
   "source": [
    "x1 = (np.linalg.det(b))/(np.linalg.det(a))\n",
    "x2 = (np.linalg.det(c))/(np.linalg.det(a))\n",
    "x3 = (np.linalg.det(d))/(np.linalg.det(a))\n",
    "print(f'x1 = {round(x1,1)}')\n",
    "print(f'x2 = {round(x2,1)}')\n",
    "print(f'x3 = {round(x3,1)}')"
   ]
  },
  {
   "cell_type": "code",
   "execution_count": null,
   "metadata": {},
   "outputs": [],
   "source": []
  }
 ],
 "metadata": {
  "kernelspec": {
   "display_name": "Python 3",
   "language": "python",
   "name": "python3"
  },
  "language_info": {
   "codemirror_mode": {
    "name": "ipython",
    "version": 3
   },
   "file_extension": ".py",
   "mimetype": "text/x-python",
   "name": "python",
   "nbconvert_exporter": "python",
   "pygments_lexer": "ipython3",
   "version": "3.8.5"
  }
 },
 "nbformat": 4,
 "nbformat_minor": 4
}
