{
 "cells": [
  {
   "cell_type": "code",
   "execution_count": 2,
   "metadata": {},
   "outputs": [],
   "source": [
    "import pandas as pd"
   ]
  },
  {
   "cell_type": "code",
   "execution_count": 5,
   "metadata": {},
   "outputs": [],
   "source": [
    "df = pd.read_csv('K://2020/Programming/Data Science/Методы сбора и обработки/Урок_8/0.csv')"
   ]
  },
  {
   "cell_type": "code",
   "execution_count": 10,
   "metadata": {},
   "outputs": [],
   "source": [
    "#проверим пустые значения"
   ]
  },
  {
   "cell_type": "code",
   "execution_count": 6,
   "metadata": {},
   "outputs": [
    {
     "name": "stdout",
     "output_type": "stream",
     "text": [
      "<class 'pandas.core.frame.DataFrame'>\n",
      "RangeIndex: 155 entries, 0 to 154\n",
      "Data columns (total 16 columns):\n",
      " #   Column      Non-Null Count  Dtype  \n",
      "---  ------      --------------  -----  \n",
      " 0   Nameagency  155 non-null    object \n",
      " 1   Index       155 non-null    int64  \n",
      " 2   Year        155 non-null    int64  \n",
      " 3   Number      155 non-null    int64  \n",
      " 4   ValJan      124 non-null    float64\n",
      " 5   ValFeb      112 non-null    float64\n",
      " 6   ValMar      124 non-null    float64\n",
      " 7   ValApr      132 non-null    float64\n",
      " 8   ValMay      155 non-null    float64\n",
      " 9   ValJun      150 non-null    float64\n",
      " 10  ValJul      155 non-null    float64\n",
      " 11  ValAug      155 non-null    float64\n",
      " 12  ValSep      150 non-null    float64\n",
      " 13  ValOct      155 non-null    float64\n",
      " 14  ValNov      150 non-null    float64\n",
      " 15  ValDec      155 non-null    float64\n",
      "dtypes: float64(12), int64(3), object(1)\n",
      "memory usage: 19.5+ KB\n"
     ]
    }
   ],
   "source": [
    "df.info()"
   ]
  },
  {
   "cell_type": "code",
   "execution_count": 7,
   "metadata": {},
   "outputs": [
    {
     "data": {
      "text/html": [
       "<div>\n",
       "<style scoped>\n",
       "    .dataframe tbody tr th:only-of-type {\n",
       "        vertical-align: middle;\n",
       "    }\n",
       "\n",
       "    .dataframe tbody tr th {\n",
       "        vertical-align: top;\n",
       "    }\n",
       "\n",
       "    .dataframe thead th {\n",
       "        text-align: right;\n",
       "    }\n",
       "</style>\n",
       "<table border=\"1\" class=\"dataframe\">\n",
       "  <thead>\n",
       "    <tr style=\"text-align: right;\">\n",
       "      <th></th>\n",
       "      <th>Nameagency</th>\n",
       "      <th>Index</th>\n",
       "      <th>Year</th>\n",
       "      <th>Number</th>\n",
       "      <th>ValJan</th>\n",
       "      <th>ValFeb</th>\n",
       "      <th>ValMar</th>\n",
       "      <th>ValApr</th>\n",
       "      <th>ValMay</th>\n",
       "      <th>ValJun</th>\n",
       "      <th>ValJul</th>\n",
       "      <th>ValAug</th>\n",
       "      <th>ValSep</th>\n",
       "      <th>ValOct</th>\n",
       "      <th>ValNov</th>\n",
       "      <th>ValDec</th>\n",
       "    </tr>\n",
       "  </thead>\n",
       "  <tbody>\n",
       "    <tr>\n",
       "      <th>0</th>\n",
       "      <td>Росгидромет</td>\n",
       "      <td>70153</td>\n",
       "      <td>2014</td>\n",
       "      <td>1</td>\n",
       "      <td>70.6</td>\n",
       "      <td>61.6</td>\n",
       "      <td>54.7</td>\n",
       "      <td>83.7</td>\n",
       "      <td>697.0</td>\n",
       "      <td>75.2</td>\n",
       "      <td>74.4</td>\n",
       "      <td>55.5</td>\n",
       "      <td>61.0</td>\n",
       "      <td>53.5</td>\n",
       "      <td>53.4</td>\n",
       "      <td>44.6</td>\n",
       "    </tr>\n",
       "    <tr>\n",
       "      <th>1</th>\n",
       "      <td>Росгидромет</td>\n",
       "      <td>70153</td>\n",
       "      <td>2014</td>\n",
       "      <td>2</td>\n",
       "      <td>70.6</td>\n",
       "      <td>61.6</td>\n",
       "      <td>54.1</td>\n",
       "      <td>84.8</td>\n",
       "      <td>788.0</td>\n",
       "      <td>73.0</td>\n",
       "      <td>74.4</td>\n",
       "      <td>54.9</td>\n",
       "      <td>60.4</td>\n",
       "      <td>55.7</td>\n",
       "      <td>53.5</td>\n",
       "      <td>44.6</td>\n",
       "    </tr>\n",
       "    <tr>\n",
       "      <th>2</th>\n",
       "      <td>Росгидромет</td>\n",
       "      <td>70153</td>\n",
       "      <td>2014</td>\n",
       "      <td>3</td>\n",
       "      <td>69.9</td>\n",
       "      <td>61.6</td>\n",
       "      <td>54.1</td>\n",
       "      <td>85.3</td>\n",
       "      <td>832.0</td>\n",
       "      <td>72.0</td>\n",
       "      <td>73.5</td>\n",
       "      <td>54.9</td>\n",
       "      <td>59.9</td>\n",
       "      <td>57.0</td>\n",
       "      <td>53.6</td>\n",
       "      <td>44.6</td>\n",
       "    </tr>\n",
       "    <tr>\n",
       "      <th>3</th>\n",
       "      <td>Росгидромет</td>\n",
       "      <td>70153</td>\n",
       "      <td>2014</td>\n",
       "      <td>4</td>\n",
       "      <td>68.8</td>\n",
       "      <td>59.9</td>\n",
       "      <td>54.1</td>\n",
       "      <td>87.4</td>\n",
       "      <td>796.0</td>\n",
       "      <td>71.5</td>\n",
       "      <td>74.4</td>\n",
       "      <td>54.4</td>\n",
       "      <td>59.6</td>\n",
       "      <td>57.6</td>\n",
       "      <td>53.7</td>\n",
       "      <td>43.9</td>\n",
       "    </tr>\n",
       "    <tr>\n",
       "      <th>4</th>\n",
       "      <td>Росгидромет</td>\n",
       "      <td>70153</td>\n",
       "      <td>2014</td>\n",
       "      <td>5</td>\n",
       "      <td>68.8</td>\n",
       "      <td>59.9</td>\n",
       "      <td>54.1</td>\n",
       "      <td>88.4</td>\n",
       "      <td>663.0</td>\n",
       "      <td>71.0</td>\n",
       "      <td>73.0</td>\n",
       "      <td>53.5</td>\n",
       "      <td>59.4</td>\n",
       "      <td>59.2</td>\n",
       "      <td>53.8</td>\n",
       "      <td>43.9</td>\n",
       "    </tr>\n",
       "  </tbody>\n",
       "</table>\n",
       "</div>"
      ],
      "text/plain": [
       "    Nameagency  Index  Year  Number  ValJan  ValFeb  ValMar  ValApr  ValMay  \\\n",
       "0  Росгидромет  70153  2014       1    70.6    61.6    54.7    83.7   697.0   \n",
       "1  Росгидромет  70153  2014       2    70.6    61.6    54.1    84.8   788.0   \n",
       "2  Росгидромет  70153  2014       3    69.9    61.6    54.1    85.3   832.0   \n",
       "3  Росгидромет  70153  2014       4    68.8    59.9    54.1    87.4   796.0   \n",
       "4  Росгидромет  70153  2014       5    68.8    59.9    54.1    88.4   663.0   \n",
       "\n",
       "   ValJun  ValJul  ValAug  ValSep  ValOct  ValNov  ValDec  \n",
       "0    75.2    74.4    55.5    61.0    53.5    53.4    44.6  \n",
       "1    73.0    74.4    54.9    60.4    55.7    53.5    44.6  \n",
       "2    72.0    73.5    54.9    59.9    57.0    53.6    44.6  \n",
       "3    71.5    74.4    54.4    59.6    57.6    53.7    43.9  \n",
       "4    71.0    73.0    53.5    59.4    59.2    53.8    43.9  "
      ]
     },
     "execution_count": 7,
     "metadata": {},
     "output_type": "execute_result"
    }
   ],
   "source": [
    "df.head()"
   ]
  },
  {
   "cell_type": "code",
   "execution_count": 16,
   "metadata": {},
   "outputs": [],
   "source": [
    "# уберем столбец с названием ведомства, индексом и номером позиции"
   ]
  },
  {
   "cell_type": "code",
   "execution_count": 17,
   "metadata": {},
   "outputs": [],
   "source": [
    "df_new = df.drop(columns=['Nameagency','Index','Number'])"
   ]
  },
  {
   "cell_type": "code",
   "execution_count": 18,
   "metadata": {},
   "outputs": [
    {
     "data": {
      "text/html": [
       "<div>\n",
       "<style scoped>\n",
       "    .dataframe tbody tr th:only-of-type {\n",
       "        vertical-align: middle;\n",
       "    }\n",
       "\n",
       "    .dataframe tbody tr th {\n",
       "        vertical-align: top;\n",
       "    }\n",
       "\n",
       "    .dataframe thead th {\n",
       "        text-align: right;\n",
       "    }\n",
       "</style>\n",
       "<table border=\"1\" class=\"dataframe\">\n",
       "  <thead>\n",
       "    <tr style=\"text-align: right;\">\n",
       "      <th></th>\n",
       "      <th>Year</th>\n",
       "      <th>ValJan</th>\n",
       "      <th>ValFeb</th>\n",
       "      <th>ValMar</th>\n",
       "      <th>ValApr</th>\n",
       "      <th>ValMay</th>\n",
       "      <th>ValJun</th>\n",
       "      <th>ValJul</th>\n",
       "      <th>ValAug</th>\n",
       "      <th>ValSep</th>\n",
       "      <th>ValOct</th>\n",
       "      <th>ValNov</th>\n",
       "      <th>ValDec</th>\n",
       "    </tr>\n",
       "  </thead>\n",
       "  <tbody>\n",
       "    <tr>\n",
       "      <th>0</th>\n",
       "      <td>2014</td>\n",
       "      <td>70.6</td>\n",
       "      <td>61.6</td>\n",
       "      <td>54.7</td>\n",
       "      <td>83.7</td>\n",
       "      <td>697.0</td>\n",
       "      <td>75.2</td>\n",
       "      <td>74.4</td>\n",
       "      <td>55.5</td>\n",
       "      <td>61.0</td>\n",
       "      <td>53.5</td>\n",
       "      <td>53.4</td>\n",
       "      <td>44.6</td>\n",
       "    </tr>\n",
       "    <tr>\n",
       "      <th>1</th>\n",
       "      <td>2014</td>\n",
       "      <td>70.6</td>\n",
       "      <td>61.6</td>\n",
       "      <td>54.1</td>\n",
       "      <td>84.8</td>\n",
       "      <td>788.0</td>\n",
       "      <td>73.0</td>\n",
       "      <td>74.4</td>\n",
       "      <td>54.9</td>\n",
       "      <td>60.4</td>\n",
       "      <td>55.7</td>\n",
       "      <td>53.5</td>\n",
       "      <td>44.6</td>\n",
       "    </tr>\n",
       "    <tr>\n",
       "      <th>2</th>\n",
       "      <td>2014</td>\n",
       "      <td>69.9</td>\n",
       "      <td>61.6</td>\n",
       "      <td>54.1</td>\n",
       "      <td>85.3</td>\n",
       "      <td>832.0</td>\n",
       "      <td>72.0</td>\n",
       "      <td>73.5</td>\n",
       "      <td>54.9</td>\n",
       "      <td>59.9</td>\n",
       "      <td>57.0</td>\n",
       "      <td>53.6</td>\n",
       "      <td>44.6</td>\n",
       "    </tr>\n",
       "    <tr>\n",
       "      <th>3</th>\n",
       "      <td>2014</td>\n",
       "      <td>68.8</td>\n",
       "      <td>59.9</td>\n",
       "      <td>54.1</td>\n",
       "      <td>87.4</td>\n",
       "      <td>796.0</td>\n",
       "      <td>71.5</td>\n",
       "      <td>74.4</td>\n",
       "      <td>54.4</td>\n",
       "      <td>59.6</td>\n",
       "      <td>57.6</td>\n",
       "      <td>53.7</td>\n",
       "      <td>43.9</td>\n",
       "    </tr>\n",
       "    <tr>\n",
       "      <th>4</th>\n",
       "      <td>2014</td>\n",
       "      <td>68.8</td>\n",
       "      <td>59.9</td>\n",
       "      <td>54.1</td>\n",
       "      <td>88.4</td>\n",
       "      <td>663.0</td>\n",
       "      <td>71.0</td>\n",
       "      <td>73.0</td>\n",
       "      <td>53.5</td>\n",
       "      <td>59.4</td>\n",
       "      <td>59.2</td>\n",
       "      <td>53.8</td>\n",
       "      <td>43.9</td>\n",
       "    </tr>\n",
       "  </tbody>\n",
       "</table>\n",
       "</div>"
      ],
      "text/plain": [
       "   Year  ValJan  ValFeb  ValMar  ValApr  ValMay  ValJun  ValJul  ValAug  \\\n",
       "0  2014    70.6    61.6    54.7    83.7   697.0    75.2    74.4    55.5   \n",
       "1  2014    70.6    61.6    54.1    84.8   788.0    73.0    74.4    54.9   \n",
       "2  2014    69.9    61.6    54.1    85.3   832.0    72.0    73.5    54.9   \n",
       "3  2014    68.8    59.9    54.1    87.4   796.0    71.5    74.4    54.4   \n",
       "4  2014    68.8    59.9    54.1    88.4   663.0    71.0    73.0    53.5   \n",
       "\n",
       "   ValSep  ValOct  ValNov  ValDec  \n",
       "0    61.0    53.5    53.4    44.6  \n",
       "1    60.4    55.7    53.5    44.6  \n",
       "2    59.9    57.0    53.6    44.6  \n",
       "3    59.6    57.6    53.7    43.9  \n",
       "4    59.4    59.2    53.8    43.9  "
      ]
     },
     "execution_count": 18,
     "metadata": {},
     "output_type": "execute_result"
    }
   ],
   "source": [
    "df_new.head()"
   ]
  },
  {
   "cell_type": "code",
   "execution_count": 19,
   "metadata": {},
   "outputs": [],
   "source": [
    "#исправим пустые значения, заменив их на медианные"
   ]
  },
  {
   "cell_type": "code",
   "execution_count": 22,
   "metadata": {},
   "outputs": [],
   "source": [
    "condition = (df_new['ValJan'].isna())"
   ]
  },
  {
   "cell_type": "code",
   "execution_count": 24,
   "metadata": {},
   "outputs": [],
   "source": [
    "df_new.loc[condition, 'ValJan'] = df_new['ValJan'].median()"
   ]
  },
  {
   "cell_type": "code",
   "execution_count": 25,
   "metadata": {},
   "outputs": [
    {
     "name": "stdout",
     "output_type": "stream",
     "text": [
      "<class 'pandas.core.frame.DataFrame'>\n",
      "RangeIndex: 155 entries, 0 to 154\n",
      "Data columns (total 13 columns):\n",
      " #   Column  Non-Null Count  Dtype  \n",
      "---  ------  --------------  -----  \n",
      " 0   Year    155 non-null    int64  \n",
      " 1   ValJan  155 non-null    float64\n",
      " 2   ValFeb  112 non-null    float64\n",
      " 3   ValMar  124 non-null    float64\n",
      " 4   ValApr  132 non-null    float64\n",
      " 5   ValMay  155 non-null    float64\n",
      " 6   ValJun  150 non-null    float64\n",
      " 7   ValJul  155 non-null    float64\n",
      " 8   ValAug  155 non-null    float64\n",
      " 9   ValSep  150 non-null    float64\n",
      " 10  ValOct  155 non-null    float64\n",
      " 11  ValNov  150 non-null    float64\n",
      " 12  ValDec  155 non-null    float64\n",
      "dtypes: float64(12), int64(1)\n",
      "memory usage: 15.9 KB\n"
     ]
    }
   ],
   "source": [
    "df_new.info()"
   ]
  },
  {
   "cell_type": "code",
   "execution_count": 29,
   "metadata": {},
   "outputs": [],
   "source": [
    "condition2 = (df_new['ValFeb'].isna())"
   ]
  },
  {
   "cell_type": "code",
   "execution_count": 30,
   "metadata": {},
   "outputs": [],
   "source": [
    "df_new.loc[condition2, 'ValFeb'] = df_new['ValFeb'].median()"
   ]
  },
  {
   "cell_type": "code",
   "execution_count": 28,
   "metadata": {},
   "outputs": [],
   "source": [
    "condition3 = (df_new['ValMar'].isna())"
   ]
  },
  {
   "cell_type": "code",
   "execution_count": 31,
   "metadata": {},
   "outputs": [],
   "source": [
    "df_new.loc[condition3, 'ValMar'] = df_new['ValMar'].median()"
   ]
  },
  {
   "cell_type": "code",
   "execution_count": 33,
   "metadata": {},
   "outputs": [],
   "source": [
    "condition4 = (df_new['ValApr'].isna())"
   ]
  },
  {
   "cell_type": "code",
   "execution_count": 34,
   "metadata": {},
   "outputs": [],
   "source": [
    "df_new.loc[condition4, 'ValApr'] = df_new['ValApr'].median()"
   ]
  },
  {
   "cell_type": "code",
   "execution_count": 35,
   "metadata": {},
   "outputs": [],
   "source": [
    "condition5 = (df_new['ValJun'].isna())"
   ]
  },
  {
   "cell_type": "code",
   "execution_count": 36,
   "metadata": {},
   "outputs": [],
   "source": [
    "df_new.loc[condition5, 'ValJun'] = df_new['ValJun'].median()"
   ]
  },
  {
   "cell_type": "code",
   "execution_count": 37,
   "metadata": {},
   "outputs": [],
   "source": [
    "condition6 = (df_new['ValSep'].isna())"
   ]
  },
  {
   "cell_type": "code",
   "execution_count": 38,
   "metadata": {},
   "outputs": [],
   "source": [
    "df_new.loc[condition6, 'ValSep'] = df_new['ValSep'].median()"
   ]
  },
  {
   "cell_type": "code",
   "execution_count": 39,
   "metadata": {},
   "outputs": [],
   "source": [
    "condition7 = (df_new['ValNov'].isna())"
   ]
  },
  {
   "cell_type": "code",
   "execution_count": 40,
   "metadata": {},
   "outputs": [],
   "source": [
    "df_new.loc[condition7, 'ValNov'] = df_new['ValNov'].median()"
   ]
  },
  {
   "cell_type": "code",
   "execution_count": 41,
   "metadata": {},
   "outputs": [
    {
     "name": "stdout",
     "output_type": "stream",
     "text": [
      "<class 'pandas.core.frame.DataFrame'>\n",
      "RangeIndex: 155 entries, 0 to 154\n",
      "Data columns (total 13 columns):\n",
      " #   Column  Non-Null Count  Dtype  \n",
      "---  ------  --------------  -----  \n",
      " 0   Year    155 non-null    int64  \n",
      " 1   ValJan  155 non-null    float64\n",
      " 2   ValFeb  155 non-null    float64\n",
      " 3   ValMar  155 non-null    float64\n",
      " 4   ValApr  155 non-null    float64\n",
      " 5   ValMay  155 non-null    float64\n",
      " 6   ValJun  155 non-null    float64\n",
      " 7   ValJul  155 non-null    float64\n",
      " 8   ValAug  155 non-null    float64\n",
      " 9   ValSep  155 non-null    float64\n",
      " 10  ValOct  155 non-null    float64\n",
      " 11  ValNov  155 non-null    float64\n",
      " 12  ValDec  155 non-null    float64\n",
      "dtypes: float64(12), int64(1)\n",
      "memory usage: 15.9 KB\n"
     ]
    }
   ],
   "source": [
    "df_new.info()"
   ]
  },
  {
   "cell_type": "code",
   "execution_count": null,
   "metadata": {},
   "outputs": [],
   "source": []
  }
 ],
 "metadata": {
  "kernelspec": {
   "display_name": "Python 3",
   "language": "python",
   "name": "python3"
  },
  "language_info": {
   "codemirror_mode": {
    "name": "ipython",
    "version": 3
   },
   "file_extension": ".py",
   "mimetype": "text/x-python",
   "name": "python",
   "nbconvert_exporter": "python",
   "pygments_lexer": "ipython3",
   "version": "3.8.5"
  }
 },
 "nbformat": 4,
 "nbformat_minor": 4
}
