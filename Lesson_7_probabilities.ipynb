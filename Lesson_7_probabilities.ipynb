{
 "cells": [
  {
   "cell_type": "code",
   "execution_count": 1,
   "metadata": {},
   "outputs": [],
   "source": [
    "import numpy as np"
   ]
  },
  {
   "cell_type": "code",
   "execution_count": 4,
   "metadata": {},
   "outputs": [
    {
     "data": {
      "text/plain": [
       "array([ 35,  45, 190, 200,  40,  70,  54, 150, 120, 110])"
      ]
     },
     "execution_count": 4,
     "metadata": {},
     "output_type": "execute_result"
    }
   ],
   "source": [
    "zp = np.array([35,45,190,200,40,70,54,150,120,110])\n",
    "zp"
   ]
  },
  {
   "cell_type": "code",
   "execution_count": 5,
   "metadata": {},
   "outputs": [
    {
     "data": {
      "text/plain": [
       "array([ 35,  45, 190, 200,  40,  70,  54, 150, 120, 110])"
      ]
     },
     "execution_count": 5,
     "metadata": {},
     "output_type": "execute_result"
    }
   ],
   "source": [
    "X = zp\n",
    "X"
   ]
  },
  {
   "cell_type": "code",
   "execution_count": 3,
   "metadata": {},
   "outputs": [
    {
     "data": {
      "text/plain": [
       "array([401, 574, 874, 919, 459, 739, 653, 902, 746, 832])"
      ]
     },
     "execution_count": 3,
     "metadata": {},
     "output_type": "execute_result"
    }
   ],
   "source": [
    "ks = np.array([401,574,874,919,459,739,653,902,746,832])\n",
    "ks"
   ]
  },
  {
   "cell_type": "code",
   "execution_count": 6,
   "metadata": {},
   "outputs": [
    {
     "data": {
      "text/plain": [
       "array([401, 574, 874, 919, 459, 739, 653, 902, 746, 832])"
      ]
     },
     "execution_count": 6,
     "metadata": {},
     "output_type": "execute_result"
    }
   ],
   "source": [
    "y = ks\n",
    "ks"
   ]
  },
  {
   "cell_type": "code",
   "execution_count": 7,
   "metadata": {},
   "outputs": [
    {
     "data": {
      "text/plain": [
       "2.620538882402765"
      ]
     },
     "execution_count": 7,
     "metadata": {},
     "output_type": "execute_result"
    }
   ],
   "source": [
    "b = (np.mean(X*y)-np.mean(X)*np.mean(y))/(np.mean(X**2)-np.mean(X)**2)\n",
    "b"
   ]
  },
  {
   "cell_type": "code",
   "execution_count": 8,
   "metadata": {},
   "outputs": [
    {
     "data": {
      "text/plain": [
       "444.1773573243596"
      ]
     },
     "execution_count": 8,
     "metadata": {},
     "output_type": "execute_result"
    }
   ],
   "source": [
    "a = np.mean(y)-b*np.mean(X)\n",
    "a"
   ]
  },
  {
   "cell_type": "code",
   "execution_count": 10,
   "metadata": {},
   "outputs": [
    {
     "data": {
      "text/plain": [
       "array([535.88, 562.08, 941.98, 968.18, 548.98, 627.58, 585.66, 837.18,\n",
       "       758.58, 732.38])"
      ]
     },
     "execution_count": 10,
     "metadata": {},
     "output_type": "execute_result"
    }
   ],
   "source": [
    "y_hat = 444.18 + 2.62*X\n",
    "y_hat"
   ]
  },
  {
   "cell_type": "code",
   "execution_count": 12,
   "metadata": {},
   "outputs": [
    {
     "data": {
      "text/plain": [
       "6470.417919999998"
      ]
     },
     "execution_count": 12,
     "metadata": {},
     "output_type": "execute_result"
    }
   ],
   "source": [
    "mse = ((y-y_hat)**2).sum()/10\n",
    "mse"
   ]
  },
  {
   "cell_type": "code",
   "execution_count": 13,
   "metadata": {},
   "outputs": [],
   "source": [
    "# без интерсепта"
   ]
  },
  {
   "cell_type": "code",
   "execution_count": 16,
   "metadata": {},
   "outputs": [],
   "source": [
    "import seaborn as sns"
   ]
  },
  {
   "cell_type": "code",
   "execution_count": 18,
   "metadata": {},
   "outputs": [
    {
     "data": {
      "text/plain": [
       "array([[ 35],\n",
       "       [ 45],\n",
       "       [190],\n",
       "       [200],\n",
       "       [ 40],\n",
       "       [ 70],\n",
       "       [ 54],\n",
       "       [150],\n",
       "       [120],\n",
       "       [110]])"
      ]
     },
     "execution_count": 18,
     "metadata": {},
     "output_type": "execute_result"
    }
   ],
   "source": [
    "X = X.reshape((10,1))\n",
    "X"
   ]
  },
  {
   "cell_type": "code",
   "execution_count": 19,
   "metadata": {},
   "outputs": [
    {
     "data": {
      "text/plain": [
       "array([[401],\n",
       "       [574],\n",
       "       [874],\n",
       "       [919],\n",
       "       [459],\n",
       "       [739],\n",
       "       [653],\n",
       "       [902],\n",
       "       [746],\n",
       "       [832]])"
      ]
     },
     "execution_count": 19,
     "metadata": {},
     "output_type": "execute_result"
    }
   ],
   "source": [
    "y = y.reshape((10,1))\n",
    "y"
   ]
  },
  {
   "cell_type": "code",
   "execution_count": 20,
   "metadata": {},
   "outputs": [
    {
     "data": {
      "text/plain": [
       "array([[5.88982042]])"
      ]
     },
     "execution_count": 20,
     "metadata": {},
     "output_type": "execute_result"
    }
   ],
   "source": [
    "B = np.dot(np.linalg.inv(np.dot(X.T,X)),X.T@y)\n",
    "B"
   ]
  },
  {
   "cell_type": "code",
   "execution_count": 21,
   "metadata": {},
   "outputs": [
    {
     "data": {
      "text/plain": [
       "array([[ 206.15],\n",
       "       [ 265.05],\n",
       "       [1119.1 ],\n",
       "       [1178.  ],\n",
       "       [ 235.6 ],\n",
       "       [ 412.3 ],\n",
       "       [ 318.06],\n",
       "       [ 883.5 ],\n",
       "       [ 706.8 ],\n",
       "       [ 647.9 ]])"
      ]
     },
     "execution_count": 21,
     "metadata": {},
     "output_type": "execute_result"
    }
   ],
   "source": [
    "y_hat = 5.89*X\n",
    "y_hat"
   ]
  },
  {
   "cell_type": "code",
   "execution_count": 22,
   "metadata": {},
   "outputs": [
    {
     "data": {
      "text/plain": [
       "56516.85886"
      ]
     },
     "execution_count": 22,
     "metadata": {},
     "output_type": "execute_result"
    }
   ],
   "source": [
    "mse = ((y-y_hat)**2).sum()/10\n",
    "mse"
   ]
  },
  {
   "cell_type": "code",
   "execution_count": 23,
   "metadata": {},
   "outputs": [],
   "source": [
    "# градиентный спуск без интерсепт"
   ]
  },
  {
   "cell_type": "code",
   "execution_count": 24,
   "metadata": {},
   "outputs": [],
   "source": [
    "def mse_(B1,y=y,X=X,n=10):\n",
    "    return np.sum((B1*X-y)**2)/n"
   ]
  },
  {
   "cell_type": "code",
   "execution_count": 25,
   "metadata": {},
   "outputs": [
    {
     "data": {
      "text/plain": [
       "1e-06"
      ]
     },
     "execution_count": 25,
     "metadata": {},
     "output_type": "execute_result"
    }
   ],
   "source": [
    "alpha = 1e-6\n",
    "alpha"
   ]
  },
  {
   "cell_type": "code",
   "execution_count": 26,
   "metadata": {},
   "outputs": [],
   "source": [
    "B1=0.1"
   ]
  },
  {
   "cell_type": "code",
   "execution_count": 27,
   "metadata": {},
   "outputs": [],
   "source": [
    "n=10"
   ]
  },
  {
   "cell_type": "code",
   "execution_count": 32,
   "metadata": {},
   "outputs": [
    {
     "name": "stdout",
     "output_type": "stream",
     "text": [
      "Iteration: 0, B1=5.873885137561711, mse=56520.35675226433\n",
      "Iteration: 10, B1=5.877769553381888, mse=56518.85910026643\n",
      "Iteration: 20, B1=5.880707096362074, mse=56518.00259913497\n",
      "Iteration: 30, B1=5.882928578088004, mse=56517.512769595625\n",
      "Iteration: 40, B1=5.884608547059329, mse=56517.232638059555\n",
      "Iteration: 50, B1=5.885879003490128, mse=56517.072431964974\n",
      "Iteration: 60, B1=5.8868397709626885, mse=56516.98081074626\n",
      "Iteration: 70, B1=5.887566339866551, mse=56516.928412941146\n",
      "Iteration: 80, B1=5.888115798905433, mse=56516.89844684794\n",
      "Iteration: 90, B1=5.888531320728348, mse=56516.88130936019\n",
      "Iteration: 100, B1=5.888845554134484, mse=56516.87150850017\n",
      "Iteration: 110, B1=5.889083189387522, mse=56516.86590342786\n",
      "Iteration: 120, B1=5.889262898203911, mse=56516.862697909644\n",
      "Iteration: 130, B1=5.889398800845774, mse=56516.86086468671\n",
      "Iteration: 140, B1=5.889501575592372, mse=56516.85981627392\n",
      "Iteration: 150, B1=5.889579297764605, mse=56516.85921669088\n",
      "Iteration: 160, B1=5.889638074227276, mse=56516.85887379176\n",
      "Iteration: 170, B1=5.889682523223808, mse=56516.85867768914\n",
      "Iteration: 180, B1=5.889716137245525, mse=56516.858565538845\n",
      "Iteration: 190, B1=5.8897415574471985, mse=56516.85850140053\n",
      "Iteration: 200, B1=5.889760781170516, mse=56516.85846472009\n",
      "Iteration: 210, B1=5.88977531888123, mse=56516.8584437427\n",
      "Iteration: 220, B1=5.889786312850989, mse=56516.85843174583\n",
      "Iteration: 230, B1=5.8897946269090555, mse=56516.858424884835\n",
      "Iteration: 240, B1=5.889800914315978, mse=56516.858420961085\n",
      "Iteration: 250, B1=5.8898056690922225, mse=56516.85841871711\n",
      "Iteration: 260, B1=5.889809264834859, mse=56516.85841743378\n",
      "Iteration: 270, B1=5.889811984072197, mse=56516.85841669984\n",
      "Iteration: 280, B1=5.889814040462894, mse=56516.85841628011\n",
      "Iteration: 290, B1=5.889815595583751, mse=56516.858416040064\n",
      "Iteration: 300, B1=5.889816771625289, mse=56516.8584159028\n",
      "Iteration: 310, B1=5.889817660992628, mse=56516.85841582429\n",
      "Iteration: 320, B1=5.889818333566034, mse=56516.8584157794\n",
      "Iteration: 330, B1=5.889818842191625, mse=56516.85841575372\n",
      "Iteration: 340, B1=5.889819226833643, mse=56516.858415739014\n",
      "Iteration: 350, B1=5.889819517714565, mse=56516.858415730625\n",
      "Iteration: 360, B1=5.889819737689781, mse=56516.85841572584\n",
      "Iteration: 370, B1=5.889819904043407, mse=56516.85841572308\n",
      "Iteration: 380, B1=5.889820029846346, mse=56516.85841572152\n",
      "Iteration: 390, B1=5.889820124983314, mse=56516.85841572062\n",
      "Iteration: 400, B1=5.889820196929507, mse=56516.85841572009\n",
      "Iteration: 410, B1=5.889820251337954, mse=56516.8584157198\n",
      "Iteration: 420, B1=5.88982029248369, mse=56516.85841571963\n",
      "Iteration: 430, B1=5.889820323599662, mse=56516.85841571953\n",
      "Iteration: 440, B1=5.889820347130743, mse=56516.858415719485\n",
      "Iteration: 450, B1=5.88982036492584, mse=56516.85841571945\n",
      "Iteration: 460, B1=5.88982037838317, mse=56516.858415719435\n",
      "Iteration: 470, B1=5.889820388560115, mse=56516.85841571943\n",
      "Iteration: 480, B1=5.889820396256308, mse=56516.85841571943\n",
      "Iteration: 490, B1=5.889820402076462, mse=56516.85841571941\n"
     ]
    }
   ],
   "source": [
    "for i in range (500):\n",
    "    B1 -=alpha*(2/n)*np.sum((B1*X-y)*X)\n",
    "    if i%10==0:\n",
    "      print('Iteration: {i}, B1={B1}, mse={mse}'.format(i=i, B1=B1, mse=mse_(B1)))"
   ]
  },
  {
   "cell_type": "code",
   "execution_count": 33,
   "metadata": {},
   "outputs": [
    {
     "data": {
      "text/plain": [
       "array([[ 206.15],\n",
       "       [ 265.05],\n",
       "       [1119.1 ],\n",
       "       [1178.  ],\n",
       "       [ 235.6 ],\n",
       "       [ 412.3 ],\n",
       "       [ 318.06],\n",
       "       [ 883.5 ],\n",
       "       [ 706.8 ],\n",
       "       [ 647.9 ]])"
      ]
     },
     "execution_count": 33,
     "metadata": {},
     "output_type": "execute_result"
    }
   ],
   "source": [
    "y_hat = 5.89*X\n",
    "y_hat"
   ]
  },
  {
   "cell_type": "code",
   "execution_count": null,
   "metadata": {},
   "outputs": [],
   "source": []
  }
 ],
 "metadata": {
  "kernelspec": {
   "display_name": "Python 3",
   "language": "python",
   "name": "python3"
  },
  "language_info": {
   "codemirror_mode": {
    "name": "ipython",
    "version": 3
   },
   "file_extension": ".py",
   "mimetype": "text/x-python",
   "name": "python",
   "nbconvert_exporter": "python",
   "pygments_lexer": "ipython3",
   "version": "3.8.5"
  }
 },
 "nbformat": 4,
 "nbformat_minor": 4
}
